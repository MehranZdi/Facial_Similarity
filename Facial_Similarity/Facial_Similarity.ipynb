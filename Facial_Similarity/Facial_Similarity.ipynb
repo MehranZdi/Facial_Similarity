{
 "cells": [
  {
   "cell_type": "markdown",
   "metadata": {},
   "source": [
    "# Facial Similarity with Siamese network and LFW dataset"
   ]
  },
  {
   "cell_type": "code",
   "execution_count": 1,
   "metadata": {},
   "outputs": [],
   "source": [
    "import os\n",
    "from PIL import Image\n",
    "import torch\n",
    "from torch.utils.data import Dataset\n",
    "from torchvision import transforms"
   ]
  },
  {
   "cell_type": "markdown",
   "metadata": {},
   "source": []
  },
  {
   "cell_type": "code",
   "execution_count": 4,
   "metadata": {},
   "outputs": [],
   "source": [
    "class LFWDataset(Dataset):\n",
    "    def __init__(self, pairs_file, img_folder, transform=None):\n",
    "        self.pairs_file = pairs_file\n",
    "        self.img_folder = img_folder\n",
    "        self.transform = transform\n",
    "        self.image_pairs, self.labels = self._load_pairs()\n",
    "\n",
    "    def _load_pairs(self):\n",
    "        with open(self.pairs_file, 'r') as f:\n",
    "            pairs = f.readlines()[1:]\n",
    "        image_pairs = []\n",
    "        labels = []\n",
    "\n",
    "        for pair in pairs:\n",
    "            pair = pair.strip().split()\n",
    "            if len(pair) == 3:\n",
    "                person = pair[0]\n",
    "                img1 = os.path.join(self.img_folder, person, f\"{person}_{int(pair[1]):04d}.jpg\")\n",
    "                img2 = os.path.join(self.img_folder, person, f\"{person}_{int(pair[2]):04d}.jpg\")\n",
    "                label = 1\n",
    "            else:\n",
    "                person1 = pair[0]\n",
    "                person2 = pair[2]\n",
    "                img1 = os.path.join(self.img_folder, person1, f\"{person1}_{int(pair[1]):04d}.jpg\")\n",
    "                img2 = os.path.join(self.img_folder, person2, f\"{person2}_{int(pair[3]):04d}.jpg\")\n",
    "                label = 0\n",
    "\n",
    "            image_pairs.append((img1, img2))\n",
    "            labels.append(label)\n",
    "\n",
    "        return image_pairs, labels\n",
    "    \n",
    "    def __len__(self):\n",
    "        return len(self.image_pairs)\n",
    "\n",
    "transform = transforms.Compose([\n",
    "    transforms.Resize((128,128)),\n",
    "    transforms.ToTensor()\n",
    "])\n",
    "\n",
    "lfw_dataset = LFWDataset(pairs_file='/home/mehran/Documents/Datasets/pairsDevTrain.txt', img_folder='/home/mehran/Documents/Datasets/lfw-deepfunneled', transform=transform)\n",
    "train_loader = torch.utils.data.DataLoader(lfw_dataset, batch_size=32, shuffle=True)\n"
   ]
  },
  {
   "cell_type": "code",
   "execution_count": null,
   "metadata": {},
   "outputs": [],
   "source": []
  }
 ],
 "metadata": {
  "kernelspec": {
   "display_name": "torchenv",
   "language": "python",
   "name": "python3"
  },
  "language_info": {
   "codemirror_mode": {
    "name": "ipython",
    "version": 3
   },
   "file_extension": ".py",
   "mimetype": "text/x-python",
   "name": "python",
   "nbconvert_exporter": "python",
   "pygments_lexer": "ipython3",
   "version": "3.12.6"
  }
 },
 "nbformat": 4,
 "nbformat_minor": 2
}
