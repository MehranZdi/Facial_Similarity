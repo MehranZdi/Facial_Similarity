{
 "cells": [
  {
   "cell_type": "markdown",
   "metadata": {},
   "source": [
    "# Facial Similarity with Siamese network and LFW dataset"
   ]
  },
  {
   "cell_type": "code",
   "execution_count": 10,
   "metadata": {},
   "outputs": [],
   "source": [
    "import os\n",
    "from PIL import Image\n",
    "import torch\n",
    "import torch.nn as nn\n",
    "import torch.optim as optim\n",
    "from torch.utils.data import Dataset\n",
    "from torchvision import transforms"
   ]
  },
  {
   "cell_type": "markdown",
   "metadata": {},
   "source": [
    "### DataLoader"
   ]
  },
  {
   "cell_type": "code",
   "execution_count": 12,
   "metadata": {},
   "outputs": [],
   "source": [
    "class LFWDataset(Dataset):\n",
    "    def __init__(self, pairs_file, img_folder, transform=None):\n",
    "        self.pairs_file = pairs_file\n",
    "        self.img_folder = img_folder\n",
    "        self.transform = transform\n",
    "        self.image_pairs, self.labels = self._load_pairs()\n",
    "\n",
    "\n",
    "    def _load_pairs(self):\n",
    "        with open(self.pairs_file, 'r') as f:\n",
    "            pairs = f.readlines()[1:]\n",
    "        image_pairs = []\n",
    "        labels = []\n",
    "\n",
    "        for pair in pairs:\n",
    "            pair = pair.strip().split()\n",
    "            if len(pair) == 3:\n",
    "                person = pair[0]\n",
    "                img_1 = os.path.join(self.img_folder, person, f\"{person}_{int(pair[1]):04d}.jpg\")\n",
    "                img_2 = os.path.join(self.img_folder, person, f\"{person}_{int(pair[2]):04d}.jpg\")\n",
    "                label = 1\n",
    "            else:\n",
    "                person_1 = pair[0]\n",
    "                person_2 = pair[2]\n",
    "                img_1 = os.path.join(self.img_folder, person_1, f\"{person_1}_{int(pair[1]):04d}.jpg\")\n",
    "                img_2 = os.path.join(self.img_folder, person_2, f\"{person_2}_{int(pair[3]):04d}.jpg\")\n",
    "                label = 0\n",
    "\n",
    "            image_pairs.append((img_1, img_2))\n",
    "            labels.append(label)\n",
    "\n",
    "        return image_pairs, labels\n",
    "    \n",
    "\n",
    "    def __getitem__(self, index):\n",
    "        path_img_1, path_img_2 = self.image_pairs(\"RGB\")\n",
    "        label = self.labels[index]\n",
    "\n",
    "        img_1 = Image.open(path_img_1).convert(\"RGB\")\n",
    "        img_2 = Image.open(path_img_2).convert(\"RGB\")\n",
    "\n",
    "        if self.transform:\n",
    "            img_1 = self.transform(img_1)\n",
    "            img_2 = self.transform(img_2)\n",
    "\n",
    "        return img_1, img_2, torch.tensor([label], dtype=torch.float32)\n",
    "    \n",
    "\n",
    "    def __len__(self):\n",
    "        return len(self.image_pairs)\n",
    "\n",
    "transform = transforms.Compose([\n",
    "    transforms.Resize((128,128)),\n",
    "    transforms.ToTensor()\n",
    "])\n",
    "\n",
    "lfw_dataset = LFWDataset(pairs_file='/home/mehran/Documents/Datasets/pairsDevTrain.txt', img_folder='/home/mehran/Documents/Datasets/lfw-deepfunneled', transform=transform)\n",
    "train_loader = torch.utils.data.DataLoader(lfw_dataset, batch_size=32, shuffle=True)\n"
   ]
  },
  {
   "cell_type": "markdown",
   "metadata": {},
   "source": [
    "### Siamese Network Architecture"
   ]
  },
  {
   "cell_type": "code",
   "execution_count": 7,
   "metadata": {},
   "outputs": [],
   "source": [
    "class SiameseNetwork(nn.Module):\n",
    "    def __init__(self):\n",
    "        super().__init__()\n",
    "\n",
    "        self.cnn = nn.Sequential(\n",
    "            nn.Conv2d(3, 64, kernel_size=3, stride=1, padding=1),\n",
    "            nn.ReLU(),\n",
    "            nn.MaxPool2d(2),\n",
    "            nn.Conv2d(64, 128, kernel_size=3, stride=1, padding=1),\n",
    "            nn.ReLU(),\n",
    "            nn.MaxPool2d(2),\n",
    "            nn.Flatten()\n",
    "        )\n",
    "\n",
    "        self.fc = nn.Sequential(\n",
    "            nn.Linear(128 * 32 * 32, 512),\n",
    "            nn.ReLU(),\n",
    "            nn.Linear(512, 128)\n",
    "        )\n",
    "\n",
    "    def forward_once(self, x):\n",
    "        x = self.cnn(x)\n",
    "        x = self.fc(x)\n",
    "        return x\n",
    "    \n",
    "    def forward(self, input_1, input_2):\n",
    "        output_1 = self.forward_once(input_1)\n",
    "        output_2 = self.forward_once(input_2)\n",
    "        return output_1, output_2\n",
    "    \n",
    "\n",
    "model = SiameseNetwork()"
   ]
  },
  {
   "cell_type": "markdown",
   "metadata": {},
   "source": [
    "### Loss Function(Contrastive Loss)"
   ]
  },
  {
   "cell_type": "code",
   "execution_count": 9,
   "metadata": {},
   "outputs": [],
   "source": [
    "class ContrastiveLoss(nn.Module):\n",
    "    def __init__(self, margin=1.0):\n",
    "        super().__init__()\n",
    "        self.margin = margin\n",
    "\n",
    "    \n",
    "    def forward(self, output_1, output_2, label):\n",
    "        euclidean_distance = nn.functional.pairwise_distance(output_1, output_2)\n",
    "        loss_contrastive = torch.mean(\n",
    "        (1 - label) * torch.pow(euclidean_distance, 2) +\n",
    "        label * torch.pow(torch.clamp(\n",
    "            self.margin - euclidean_distance, min=0.0), 2)\n",
    "        )\n",
    "        return loss_contrastive\n",
    "    \n",
    "\n",
    "criterion = ContrastiveLoss()"
   ]
  }
 ],
 "metadata": {
  "kernelspec": {
   "display_name": "torchenv",
   "language": "python",
   "name": "python3"
  },
  "language_info": {
   "codemirror_mode": {
    "name": "ipython",
    "version": 3
   },
   "file_extension": ".py",
   "mimetype": "text/x-python",
   "name": "python",
   "nbconvert_exporter": "python",
   "pygments_lexer": "ipython3",
   "version": "3.12.6"
  }
 },
 "nbformat": 4,
 "nbformat_minor": 2
}
